{
 "cells": [
  {
   "cell_type": "markdown",
   "metadata": {},
   "source": [
    "# Classifier Ensembles - Completed"
   ]
  },
  {
   "cell_type": "markdown",
   "metadata": {},
   "source": [
    "Let's use the Heart Disease UCI dataset from [Kaggle](https://www.kaggle.com/ronitf/heart-disease-uci) to explore how to implement ensemble classifiers using `sklearn.ensemble`. In this exercise we are not going go try and interpret out classifiers much (in general, ensemble methods obscure this somewhat anyway as we will discuss further in the Online Practice), and we are not going to deal with any other issues that might be present or strategies that might be available. We will simply explore the different ensemble methods available and see if we can use any to improve the classifier performance."
   ]
  },
  {
   "cell_type": "markdown",
   "metadata": {},
   "source": [
    "# Load data"
   ]
  },
  {
   "cell_type": "code",
   "execution_count": 1,
   "metadata": {},
   "outputs": [],
   "source": [
    "# import the usual libraries\n",
    "import pandas as pd\n",
    "import numpy as np"
   ]
  },
  {
   "cell_type": "code",
   "execution_count": 2,
   "metadata": {},
   "outputs": [
    {
     "data": {
      "text/html": [
       "<div>\n",
       "<style scoped>\n",
       "    .dataframe tbody tr th:only-of-type {\n",
       "        vertical-align: middle;\n",
       "    }\n",
       "\n",
       "    .dataframe tbody tr th {\n",
       "        vertical-align: top;\n",
       "    }\n",
       "\n",
       "    .dataframe thead th {\n",
       "        text-align: right;\n",
       "    }\n",
       "</style>\n",
       "<table border=\"1\" class=\"dataframe\">\n",
       "  <thead>\n",
       "    <tr style=\"text-align: right;\">\n",
       "      <th></th>\n",
       "      <th>age</th>\n",
       "      <th>sex</th>\n",
       "      <th>cp</th>\n",
       "      <th>trestbps</th>\n",
       "      <th>chol</th>\n",
       "      <th>fbs</th>\n",
       "      <th>restecg</th>\n",
       "      <th>thalach</th>\n",
       "      <th>exang</th>\n",
       "      <th>oldpeak</th>\n",
       "      <th>slope</th>\n",
       "      <th>ca</th>\n",
       "      <th>thal</th>\n",
       "      <th>target</th>\n",
       "    </tr>\n",
       "  </thead>\n",
       "  <tbody>\n",
       "    <tr>\n",
       "      <th>0</th>\n",
       "      <td>63</td>\n",
       "      <td>1</td>\n",
       "      <td>3</td>\n",
       "      <td>145</td>\n",
       "      <td>233</td>\n",
       "      <td>1</td>\n",
       "      <td>0</td>\n",
       "      <td>150</td>\n",
       "      <td>0</td>\n",
       "      <td>2.3</td>\n",
       "      <td>0</td>\n",
       "      <td>0</td>\n",
       "      <td>1</td>\n",
       "      <td>1</td>\n",
       "    </tr>\n",
       "    <tr>\n",
       "      <th>1</th>\n",
       "      <td>37</td>\n",
       "      <td>1</td>\n",
       "      <td>2</td>\n",
       "      <td>130</td>\n",
       "      <td>250</td>\n",
       "      <td>0</td>\n",
       "      <td>1</td>\n",
       "      <td>187</td>\n",
       "      <td>0</td>\n",
       "      <td>3.5</td>\n",
       "      <td>0</td>\n",
       "      <td>0</td>\n",
       "      <td>2</td>\n",
       "      <td>1</td>\n",
       "    </tr>\n",
       "    <tr>\n",
       "      <th>2</th>\n",
       "      <td>41</td>\n",
       "      <td>0</td>\n",
       "      <td>1</td>\n",
       "      <td>130</td>\n",
       "      <td>204</td>\n",
       "      <td>0</td>\n",
       "      <td>0</td>\n",
       "      <td>172</td>\n",
       "      <td>0</td>\n",
       "      <td>1.4</td>\n",
       "      <td>2</td>\n",
       "      <td>0</td>\n",
       "      <td>2</td>\n",
       "      <td>1</td>\n",
       "    </tr>\n",
       "    <tr>\n",
       "      <th>3</th>\n",
       "      <td>56</td>\n",
       "      <td>1</td>\n",
       "      <td>1</td>\n",
       "      <td>120</td>\n",
       "      <td>236</td>\n",
       "      <td>0</td>\n",
       "      <td>1</td>\n",
       "      <td>178</td>\n",
       "      <td>0</td>\n",
       "      <td>0.8</td>\n",
       "      <td>2</td>\n",
       "      <td>0</td>\n",
       "      <td>2</td>\n",
       "      <td>1</td>\n",
       "    </tr>\n",
       "    <tr>\n",
       "      <th>4</th>\n",
       "      <td>57</td>\n",
       "      <td>0</td>\n",
       "      <td>0</td>\n",
       "      <td>120</td>\n",
       "      <td>354</td>\n",
       "      <td>0</td>\n",
       "      <td>1</td>\n",
       "      <td>163</td>\n",
       "      <td>1</td>\n",
       "      <td>0.6</td>\n",
       "      <td>2</td>\n",
       "      <td>0</td>\n",
       "      <td>2</td>\n",
       "      <td>1</td>\n",
       "    </tr>\n",
       "  </tbody>\n",
       "</table>\n",
       "</div>"
      ],
      "text/plain": [
       "   age  sex  cp  trestbps  chol  fbs  restecg  thalach  exang  oldpeak  slope  \\\n",
       "0   63    1   3       145   233    1        0      150      0      2.3      0   \n",
       "1   37    1   2       130   250    0        1      187      0      3.5      0   \n",
       "2   41    0   1       130   204    0        0      172      0      1.4      2   \n",
       "3   56    1   1       120   236    0        1      178      0      0.8      2   \n",
       "4   57    0   0       120   354    0        1      163      1      0.6      2   \n",
       "\n",
       "   ca  thal  target  \n",
       "0   0     1       1  \n",
       "1   0     2       1  \n",
       "2   0     2       1  \n",
       "3   0     2       1  \n",
       "4   0     2       1  "
      ]
     },
     "execution_count": 2,
     "metadata": {},
     "output_type": "execute_result"
    }
   ],
   "source": [
    "# load in the data\n",
    "data = pd.read_csv(\"heart.csv\")\n",
    "\n",
    "data.head()"
   ]
  },
  {
   "cell_type": "code",
   "execution_count": 3,
   "metadata": {},
   "outputs": [
    {
     "data": {
      "text/plain": [
       "1    165\n",
       "0    138\n",
       "Name: target, dtype: int64"
      ]
     },
     "execution_count": 3,
     "metadata": {},
     "output_type": "execute_result"
    }
   ],
   "source": [
    "# check the class balance\n",
    "data['target'].value_counts()"
   ]
  },
  {
   "cell_type": "markdown",
   "metadata": {},
   "source": [
    "And so we see that the data is fairly balanced."
   ]
  },
  {
   "cell_type": "code",
   "execution_count": 4,
   "metadata": {},
   "outputs": [
    {
     "name": "stdout",
     "output_type": "stream",
     "text": [
      "<class 'pandas.core.frame.DataFrame'>\n",
      "RangeIndex: 303 entries, 0 to 302\n",
      "Data columns (total 14 columns):\n",
      " #   Column    Non-Null Count  Dtype  \n",
      "---  ------    --------------  -----  \n",
      " 0   age       303 non-null    int64  \n",
      " 1   sex       303 non-null    int64  \n",
      " 2   cp        303 non-null    int64  \n",
      " 3   trestbps  303 non-null    int64  \n",
      " 4   chol      303 non-null    int64  \n",
      " 5   fbs       303 non-null    int64  \n",
      " 6   restecg   303 non-null    int64  \n",
      " 7   thalach   303 non-null    int64  \n",
      " 8   exang     303 non-null    int64  \n",
      " 9   oldpeak   303 non-null    float64\n",
      " 10  slope     303 non-null    int64  \n",
      " 11  ca        303 non-null    int64  \n",
      " 12  thal      303 non-null    int64  \n",
      " 13  target    303 non-null    int64  \n",
      "dtypes: float64(1), int64(13)\n",
      "memory usage: 33.3 KB\n"
     ]
    }
   ],
   "source": [
    "# quick high-level check of the data\n",
    "data.info()"
   ]
  },
  {
   "cell_type": "markdown",
   "metadata": {},
   "source": [
    "And so it appears that we will we have no cleaning to do."
   ]
  },
  {
   "cell_type": "markdown",
   "metadata": {},
   "source": [
    "# Preprocessing"
   ]
  },
  {
   "cell_type": "code",
   "execution_count": 5,
   "metadata": {},
   "outputs": [],
   "source": [
    "# split into features and class\n",
    "X = data.drop(['target'], axis = 1)\n",
    "y = data['target']"
   ]
  },
  {
   "cell_type": "code",
   "execution_count": 6,
   "metadata": {},
   "outputs": [],
   "source": [
    "# import train_test_split\n",
    "from sklearn.model_selection import train_test_split\n",
    "\n",
    "# perform a train/test split with a 70:30 ratio\n",
    "X_train, X_test, y_train, y_test = train_test_split(X, y, test_size = 0.3, random_state = 123)"
   ]
  },
  {
   "cell_type": "markdown",
   "metadata": {},
   "source": [
    "# Imports"
   ]
  },
  {
   "cell_type": "markdown",
   "metadata": {},
   "source": [
    "Let's import a range of different classifiers that we can try to use in our ensembles, some of which we have studied in detail, and some we have not! "
   ]
  },
  {
   "cell_type": "code",
   "execution_count": 7,
   "metadata": {},
   "outputs": [],
   "source": [
    "# import a range of classification algorithms\n",
    "from sklearn.tree import DecisionTreeClassifier\n",
    "from sklearn.linear_model import LogisticRegression\n",
    "from sklearn.svm import SVC\n",
    "from sklearn.neighbors import KNeighborsClassifier\n",
    "from sklearn.naive_bayes import GaussianNB\n",
    "from sklearn.ensemble import RandomForestClassifier"
   ]
  },
  {
   "cell_type": "markdown",
   "metadata": {},
   "source": [
    "Import various functions we will need:"
   ]
  },
  {
   "cell_type": "code",
   "execution_count": 8,
   "metadata": {},
   "outputs": [],
   "source": [
    "# import cross_val_score and GridSearchCV \n",
    "from sklearn.model_selection import cross_val_score, GridSearchCV\n",
    "\n",
    "# import StandardScaler for certain algorithms\n",
    "from sklearn.preprocessing import StandardScaler\n",
    "\n",
    "# import make_pipeline to conveniently package up the scaler with certain algorithms\n",
    "from sklearn.pipeline import make_pipeline\n",
    "\n",
    "# import accuracy_score\n",
    "from sklearn.metrics import accuracy_score"
   ]
  },
  {
   "cell_type": "markdown",
   "metadata": {},
   "source": [
    "# Voting Classifiers"
   ]
  },
  {
   "cell_type": "markdown",
   "metadata": {},
   "source": [
    "Let's try constructing a **voting classifier** using a few different classifiers. Let's leave all of the model arguments as default for now - we will return to this point shortly.\n",
    "\n",
    "> In the following we will evaluate our model using `cross_val_score`, effectively like computing the accuracy on a validation set, as we may sometimes want to set hyperparameter values or choose between ensembles. As always, the final evaluation would eventually be on the test set at the very end of an analysis."
   ]
  },
  {
   "cell_type": "code",
   "execution_count": 9,
   "metadata": {},
   "outputs": [],
   "source": [
    "# import VotingClassifier\n",
    "from sklearn.ensemble import VotingClassifier"
   ]
  },
  {
   "cell_type": "code",
   "execution_count": 10,
   "metadata": {},
   "outputs": [
    {
     "name": "stdout",
     "output_type": "stream",
     "text": [
      "SVC: 0.603987 \n",
      "DecisionTreeClassifier: 0.768992 \n",
      "KNeighborsClassifier: 0.655482 \n",
      "VotingClassifier: 0.717165 \n"
     ]
    }
   ],
   "source": [
    "# setup a SVC, DecisionTreeClassifier and KNeighborsClassifier\n",
    "clf1 = SVC()\n",
    "clf2 = DecisionTreeClassifier(random_state = 1)\n",
    "clf3 = KNeighborsClassifier()\n",
    "\n",
    "# construct a hard VotingClassifier using these learners\n",
    "eclf = VotingClassifier(estimators = [('svc', clf1), \n",
    "                                      ('dt', clf2), \n",
    "                                      ('knn', clf3)],\n",
    "                                      voting = 'hard')\n",
    "\n",
    "# for each learner and the ensemble as a whole, use cross_val_score with 5 folds to gauge the accuracy\n",
    "for clf in (clf1, clf2,  clf3,  eclf):\n",
    "    scores = cross_val_score(clf, X_train, y_train, scoring = 'accuracy', cv = 5)\n",
    "    print(\"%s: %f \" % (clf.__class__.__name__, scores.mean()))"
   ]
  },
  {
   "cell_type": "markdown",
   "metadata": {},
   "source": [
    "This is not doing very well! It's not even performing as well as the best learner. This may seem contradictory to our original motivating example of the oracles, but remember that the underlying calculation there implicitly assumed that all learners are completely *independent*, which in reality can never be met.\n",
    "\n",
    "\n",
    "Let's try changing the voting strategy to \"soft\" and play with the weights a bit based on which individual learners above are performing better:"
   ]
  },
  {
   "cell_type": "code",
   "execution_count": 14,
   "metadata": {},
   "outputs": [
    {
     "name": "stdout",
     "output_type": "stream",
     "text": [
      "SVC: 0.603987 \n",
      "DecisionTreeClassifier: 0.768992 \n",
      "KNeighborsClassifier: 0.655482 \n",
      "VotingClassifier: 0.778405 \n"
     ]
    }
   ],
   "source": [
    "# setup a SVC, DecisionTreeClassifier and KNeighborsClassifier\n",
    "clf1 = SVC(probability = True)    # we need to set this argument now in order to do soft voting\n",
    "clf2 = DecisionTreeClassifier(random_state = 1)\n",
    "clf3 = KNeighborsClassifier()\n",
    "\n",
    "# construct a soft VotingClassifier using these learners, and set the weights\n",
    "eclf = VotingClassifier(estimators = [('svc', clf1), \n",
    "                                      ('dt', clf2), \n",
    "                                      ('knn', clf3)],\n",
    "                                       voting = 'soft',\n",
    "                                       weights = [2,5,4])\n",
    "\n",
    "# for each learner and the ensemble as a whole, use cross_val_score with 5 folds to gauge the accuracy\n",
    "for clf in (clf1, clf2,  clf3,  eclf):\n",
    "    scores = cross_val_score(clf, X_train, y_train, scoring = 'accuracy', cv = 5)\n",
    "    print(\"%s: %f \" % (clf.__class__.__name__, scores.mean()))"
   ]
  },
  {
   "cell_type": "markdown",
   "metadata": {},
   "source": [
    "So this is certainly a bit better, and now our voting classifier is performing slightly better than the individual learners."
   ]
  },
  {
   "cell_type": "markdown",
   "metadata": {},
   "source": [
    "Let's try a different voting ensemble, using log reg rather than SVM, and this time let's correctly scale the data that k-NN uses (using the `make_pipeline` function):"
   ]
  },
  {
   "cell_type": "code",
   "execution_count": 15,
   "metadata": {},
   "outputs": [
    {
     "name": "stdout",
     "output_type": "stream",
     "text": [
      "LogisticRegression: 0.839867 \n",
      "DecisionTreeClassifier: 0.768992 \n",
      "Pipeline: 0.839313 \n",
      "VotingClassifier: 0.858472 \n"
     ]
    }
   ],
   "source": [
    "# setup a LogisticRegression, DecisionTreeClassifier and KNeighborsClassifier\n",
    "clf1 = LogisticRegression(max_iter = 10000)    # we set the max_argument high just for algorithm convergence reasons\n",
    "clf2 = DecisionTreeClassifier(random_state = 1)\n",
    "clf3 = KNeighborsClassifier()\n",
    "\n",
    "# construct a hard VotingClassifier using these learners, and pipeline the k-NN with a scaler\n",
    "eclf = VotingClassifier(estimators = [('lr', clf1), \n",
    "                                      ('dt', clf2), \n",
    "                                      ('knn', make_pipeline(StandardScaler(), clf3))\n",
    "                                     ],\n",
    "                                      voting = 'hard',\n",
    "                       )\n",
    "\n",
    "# for each learner and the ensemble as a whole, use cross_val_score with 5 folds to gauge the accuracy\n",
    "for clf in (clf1, clf2, make_pipeline(StandardScaler(), clf3), eclf):\n",
    "    scores = cross_val_score(clf, X_train, y_train, scoring = 'accuracy', cv = 5)\n",
    "    print(\"%s: %f \" % (clf.__class__.__name__, scores.mean()))"
   ]
  },
  {
   "cell_type": "markdown",
   "metadata": {},
   "source": [
    "So we are getting some real improvement this time! Our voting classifier ensemble performs almost 2% better than the best learner."
   ]
  },
  {
   "cell_type": "markdown",
   "metadata": {},
   "source": [
    "### Aside: Setting Hyperparameter Values"
   ]
  },
  {
   "cell_type": "markdown",
   "metadata": {},
   "source": [
    "So far we have not tried to fix any of the hyperparameter values of the individual learners. We can take different approaches to choosing the individual learner hyperparameters which will not in general produce the same hyperparameter values,: \n",
    "\n",
    "1. You could first grid search the individual learners to find the best values before they get put into the ensemble \n",
    "2. You can grid search the ensemble as a whole - for this, you access the desired argument via a double underscore in the parameter grid as we will demonstrate below\n",
    "\n",
    "Let us take the second approach. For example, in the code below we grid search to find the `max_depth` of the decision tree, the `C` parameter of the log reg model, and the k-NN hyperparmaters `n_neighbors` and `metric`:"
   ]
  },
  {
   "cell_type": "code",
   "execution_count": 16,
   "metadata": {},
   "outputs": [],
   "source": [
    "# setup a LogisticRegression, DecisionTreeClassifier and KNeighborsClassifier\n",
    "clf1 = LogisticRegression(max_iter = 10000)\n",
    "clf2 = DecisionTreeClassifier(random_state = 1)\n",
    "clf3 = KNeighborsClassifier()\n",
    "\n",
    "# construct a hard VotingClassifier using these learners, and pipeline the k-NN with a scaler\n",
    "eclf = VotingClassifier(estimators = [('lr', clf1), \n",
    "                                      ('dt', clf2), \n",
    "                                      ('knn', make_pipeline(StandardScaler(), clf3))\n",
    "                                     ],\n",
    "                                      voting = 'hard',\n",
    "                       )"
   ]
  },
  {
   "cell_type": "code",
   "execution_count": 17,
   "metadata": {},
   "outputs": [
    {
     "name": "stdout",
     "output_type": "stream",
     "text": [
      "{'dt__max_depth': 5, 'knn__kneighborsclassifier__metric': 'manhattan', 'knn__kneighborsclassifier__n_neighbors': 5, 'lr__C': 0.1}\n"
     ]
    }
   ],
   "source": [
    "# define the parameter grid, noting the double underscore notation to access elements of the ensemble\n",
    "params = {'dt__max_depth': [2,5,7,9,11],\n",
    "          'lr__C': [0.1,1.0,10.0],\n",
    "          'knn__kneighborsclassifier__n_neighbors': [1, 3, 5, 7, 10],\n",
    "          'knn__kneighborsclassifier__metric': ['manhattan', 'minkowski']\n",
    "         }\n",
    "\n",
    "# pass the voting classifier and the param_grid to a grid search and use 5 folds\n",
    "grid = GridSearchCV(estimator = eclf, param_grid = params, cv = 5)\n",
    "\n",
    "# fit the grid search to the training set\n",
    "grid.fit(X_train,y_train)\n",
    "\n",
    "# print the best parameter values\n",
    "print(grid.best_params_)\n",
    "\n",
    "# save the best model\n",
    "eclf = grid.best_estimator_"
   ]
  },
  {
   "cell_type": "code",
   "execution_count": 18,
   "metadata": {},
   "outputs": [
    {
     "name": "stdout",
     "output_type": "stream",
     "text": [
      "LogisticRegression: 0.839867 \n",
      "DecisionTreeClassifier: 0.768992 \n",
      "Pipeline: 0.839313 \n",
      "VotingClassifier: 0.868106 \n"
     ]
    }
   ],
   "source": [
    "# for each learner and the ensemble as a whole, use cross_val_score with 5 folds to gauge the accuracy\n",
    "for clf in (clf1, clf2, make_pipeline(StandardScaler(), clf3), eclf):\n",
    "    scores = cross_val_score(clf, X_train, y_train, scoring = 'accuracy', cv = 5)\n",
    "    print(\"%s: %f \" % (clf.__class__.__name__, scores.mean()))"
   ]
  },
  {
   "cell_type": "markdown",
   "metadata": {},
   "source": [
    "So there is a slight improvement over using the default arguments of the learners in the voting classifier."
   ]
  },
  {
   "cell_type": "markdown",
   "metadata": {},
   "source": [
    "# Stacking Ensembles"
   ]
  },
  {
   "cell_type": "markdown",
   "metadata": {},
   "source": [
    "Rather than trying to endlessly tweak weights etc., you can instead train a meta-classifier via **stacking**. Here we have to choose a classification algorithm for our final \"meta-classifier\", which uses the individual predictions from the various learners as inputs to another learning model.\n",
    "\n",
    "Let's use the same 3 individual learners from before, and try some different meta-classifiers via the `final_estimator` argument - in practice one would usually use something like a log reg or SVM model for this meta-classifier:"
   ]
  },
  {
   "cell_type": "code",
   "execution_count": 27,
   "metadata": {},
   "outputs": [
    {
     "name": "stdout",
     "output_type": "stream",
     "text": [
      "LogisticRegression: 0.839867 \n",
      "DecisionTreeClassifier: 0.792580 \n",
      "Pipeline: 0.839313 \n",
      "StackingClassifier: 0.849059 \n"
     ]
    }
   ],
   "source": [
    "# import StackingClassifier\n",
    "from sklearn.ensemble import StackingClassifier\n",
    "\n",
    "# setup a LogisticRegression, DecisionTreeClassifier and KNeighborsClassifier\n",
    "clf1 = LogisticRegression(max_iter = 10000)\n",
    "clf2 = DecisionTreeClassifier(random_state = 123)\n",
    "clf3 = KNeighborsClassifier()\n",
    "\n",
    "# define the learners in the ensemble\n",
    "estimators = [('lr', clf1), \n",
    "              ('dt', clf2), \n",
    "             ('knn', make_pipeline(StandardScaler(), clf3))]\n",
    "\n",
    "# create a stacking ensemble with a LogisticRegression meta-classifier\n",
    "stack = StackingClassifier(\n",
    "    estimators = estimators,\n",
    "    final_estimator = LogisticRegression())\n",
    "\n",
    "# fit the ensemble to the training data \n",
    "stack.fit(X_train, y_train)\n",
    "\n",
    "# for each learner and the ensemble as a whole, use cross_val_score with 5 folds to gauge the accuracy\n",
    "for clf in (clf1, clf2,  make_pipeline(StandardScaler(), clf3), stack):\n",
    "    scores = cross_val_score(clf, X_train, y_train, scoring = 'accuracy', cv = 5)\n",
    "    print(\"%s: %f \" % (clf.__class__.__name__, scores.mean()))"
   ]
  },
  {
   "cell_type": "markdown",
   "metadata": {},
   "source": [
    "Now let's try it with a SVC meta-classifier:"
   ]
  },
  {
   "cell_type": "code",
   "execution_count": 26,
   "metadata": {},
   "outputs": [
    {
     "name": "stdout",
     "output_type": "stream",
     "text": [
      "LogisticRegression: 0.839867 \n",
      "DecisionTreeClassifier: 0.792580 \n",
      "Pipeline: 0.839313 \n",
      "StackingClassifier: 0.863344 \n"
     ]
    }
   ],
   "source": [
    "# setup a LogisticRegression, DecisionTreeClassifier and KNeighborsClassifier\n",
    "clf1 = LogisticRegression(max_iter = 10000)\n",
    "clf2 = DecisionTreeClassifier(random_state = 123)\n",
    "clf3 = KNeighborsClassifier()\n",
    "\n",
    "# define the learners in the ensemble\n",
    "estimators = [('lr', clf1), \n",
    "              ('dt', clf2), \n",
    "             ('knn', make_pipeline(StandardScaler(), clf3))]\n",
    "\n",
    "# create a stacking ensemble with a SVC meta-classifier\n",
    "stack = StackingClassifier(\n",
    "    estimators = estimators,\n",
    "    final_estimator = SVC())\n",
    "\n",
    "# fit the ensemble to the training data \n",
    "stack.fit(X_train, y_train)\n",
    "\n",
    "# for each learner and the ensemble as a whole, use cross_val_score with 5 folds to gauge the accuracy\n",
    "for clf in (clf1, clf2,  make_pipeline(StandardScaler(), clf3), stack):\n",
    "    scores = cross_val_score(clf, X_train, y_train, scoring = 'accuracy', cv = 5)\n",
    "    print(\"%s: %f \" % (clf.__class__.__name__, scores.mean()))"
   ]
  },
  {
   "cell_type": "markdown",
   "metadata": {},
   "source": [
    "So both of these are giving some improvement to our performance."
   ]
  },
  {
   "cell_type": "markdown",
   "metadata": {},
   "source": [
    "In principle you can use any classifier for the meta-classifier here, and in fact you could choose between these options for the `final_estimator` by using `GridSearchCV` if you want."
   ]
  },
  {
   "cell_type": "markdown",
   "metadata": {},
   "source": [
    "Rather than simply collecting a few learners into an ensemble, in practice we often like to use *many* learners in an ensemble - one of the most common ways to do this is via **bagging**."
   ]
  },
  {
   "cell_type": "markdown",
   "metadata": {},
   "source": [
    "# Bagging"
   ]
  },
  {
   "cell_type": "markdown",
   "metadata": {},
   "source": [
    "Recall that bagging reduces the variance (without increasing bias) i.e. it can help reduce overfitting. Bagging performs best with algorithms that have *high variance*, such as unpruned decision trees - you saw in the Introduction for Classification I that decision trees, as non-parametric models, can easily overfit if left unrestrained.\n",
    "\n",
    "The main arguments to play with here are `base_estimator`, `max_samples`, and `n_estimators`:"
   ]
  },
  {
   "cell_type": "code",
   "execution_count": 714,
   "metadata": {},
   "outputs": [
    {
     "data": {
      "text/plain": [
       "0.7786267995570321"
      ]
     },
     "execution_count": 714,
     "metadata": {},
     "output_type": "execute_result"
    }
   ],
   "source": [
    "# build a decision tree model with default arguments\n",
    "model = DecisionTreeClassifier()\n",
    "\n",
    "# fit the tree to the training set\n",
    "model.fit(X_train, y_train)\n",
    "\n",
    "# use cross_val_score to compute the accuracy of the model with 5 folds\n",
    "cross_val_score(model, X_train, y_train, scoring = 'accuracy', cv = 5).mean()"
   ]
  },
  {
   "cell_type": "markdown",
   "metadata": {},
   "source": [
    "Let's try bagging some decision trees together - let's construct an ensemble of 500 trees, each one only seeing a random 0.6 of the dataset (for extra diversity):"
   ]
  },
  {
   "cell_type": "code",
   "execution_count": 716,
   "metadata": {},
   "outputs": [],
   "source": [
    "# import BaggingClassifier\n",
    "from sklearn.ensemble import BaggingClassifier"
   ]
  },
  {
   "cell_type": "code",
   "execution_count": 717,
   "metadata": {},
   "outputs": [],
   "source": [
    "# construct a bagging ensemble with 500 trees, each one only seeing 0.6 of the dataset\n",
    "bag = BaggingClassifier(base_estimator = DecisionTreeClassifier(),\n",
    "                        max_samples = 0.6, n_estimators = 500, n_jobs = -1, random_state = 123)"
   ]
  },
  {
   "cell_type": "code",
   "execution_count": 718,
   "metadata": {},
   "outputs": [
    {
     "data": {
      "text/plain": [
       "0.8255813953488372"
      ]
     },
     "execution_count": 718,
     "metadata": {},
     "output_type": "execute_result"
    }
   ],
   "source": [
    "# use cross_val_score to compute the accuracy of the ensemble with 5 folds\n",
    "cross_val_score(bag, X_train, y_train, scoring = 'accuracy', cv = 5).mean()"
   ]
  },
  {
   "cell_type": "markdown",
   "metadata": {},
   "source": [
    "So there is a significant increase compared to a single tree - about 5%!"
   ]
  },
  {
   "cell_type": "markdown",
   "metadata": {},
   "source": [
    "As mentioned, this works best for high variance models like trees. Let's see how it performs on log reg:"
   ]
  },
  {
   "cell_type": "code",
   "execution_count": 678,
   "metadata": {},
   "outputs": [
    {
     "data": {
      "text/plain": [
       "0.8398671096345514"
      ]
     },
     "execution_count": 678,
     "metadata": {},
     "output_type": "execute_result"
    }
   ],
   "source": [
    "# build a log reg model with default arguments (except set max_iter = 10000)\n",
    "model = LogisticRegression(max_iter = 10000)\n",
    "\n",
    "# fit the model to the training set\n",
    "model.fit(X_train, y_train)\n",
    "\n",
    "# use cross_val_score to compute the accuracy of the model with 5 folds\n",
    "cross_val_score(bag, X_train, y_train, scoring = 'accuracy', cv = 5).mean()"
   ]
  },
  {
   "cell_type": "code",
   "execution_count": 679,
   "metadata": {},
   "outputs": [
    {
     "data": {
      "text/plain": [
       "0.849390919158361"
      ]
     },
     "execution_count": 679,
     "metadata": {},
     "output_type": "execute_result"
    }
   ],
   "source": [
    "# construct a bagging ensemble with 500 models, each one only seeing 0.6 of the dataset\n",
    "bag = BaggingClassifier(base_estimator = LogisticRegression(),\n",
    "                        max_samples = 0.6, n_estimators = 500, n_jobs=-1, random_state = 123)\n",
    "\n",
    "# use cross_val_score to compute the accuracy of the ensemble with 5 folds\n",
    "cross_val_score(bag, X_train, y_train, scoring = 'accuracy', cv = 5).mean()"
   ]
  },
  {
   "cell_type": "markdown",
   "metadata": {},
   "source": [
    "And on Naive Bayes:"
   ]
  },
  {
   "cell_type": "code",
   "execution_count": 689,
   "metadata": {},
   "outputs": [
    {
     "data": {
      "text/plain": [
       "0.8260243632336655"
      ]
     },
     "execution_count": 689,
     "metadata": {},
     "output_type": "execute_result"
    }
   ],
   "source": [
    "# build a GaussianNB model with default arguments \n",
    "model = GaussianNB()\n",
    "\n",
    "# fit the model to the training set\n",
    "model.fit(X_train, y_train)\n",
    "\n",
    "# use cross_val_score to compute the accuracy of the model with 5 folds\n",
    "cross_val_score(bag, X_train, y_train, scoring = 'accuracy', cv = 5).mean()"
   ]
  },
  {
   "cell_type": "code",
   "execution_count": 692,
   "metadata": {},
   "outputs": [
    {
     "data": {
      "text/plain": [
       "0.8259136212624585"
      ]
     },
     "execution_count": 692,
     "metadata": {},
     "output_type": "execute_result"
    }
   ],
   "source": [
    "# construct a bagging ensemble with 500 models, each one only seeing 0.6 of the dataset\n",
    "\n",
    "bag = BaggingClassifier(base_estimator = GaussianNB(),\n",
    "                        max_samples = 0.6, n_estimators = 500, n_jobs = -1, random_state = 123)\n",
    "\n",
    "cross_val_score(bag, X_train, y_train, scoring = 'accuracy', cv = 5).mean()"
   ]
  },
  {
   "cell_type": "markdown",
   "metadata": {},
   "source": [
    "So for some other classification algorithms there is not much of a difference."
   ]
  },
  {
   "cell_type": "markdown",
   "metadata": {},
   "source": [
    "# Challenge"
   ]
  },
  {
   "cell_type": "markdown",
   "metadata": {},
   "source": [
    "Try to get the best accuracy score on the dataset, using any of these techniques including voting classifiers, bagging or stacking. You can use any classification algorithm - `LogisticRegression`, `DecisionTreeClassifier`, `SVC`, `KNeighborsClassifier`, `GaussianNB`, or even other ensembles like `RandomForestClassifier` as learners in your ensemble. You can try to optimise the hyperparameters or keep things simple.\n",
    "\n",
    "Good luck!"
   ]
  }
 ],
 "metadata": {
  "kernelspec": {
   "display_name": "Python 3",
   "language": "python",
   "name": "python3"
  },
  "language_info": {
   "codemirror_mode": {
    "name": "ipython",
    "version": 3
   },
   "file_extension": ".py",
   "mimetype": "text/x-python",
   "name": "python",
   "nbconvert_exporter": "python",
   "pygments_lexer": "ipython3",
   "version": "3.7.1"
  }
 },
 "nbformat": 4,
 "nbformat_minor": 2
}
